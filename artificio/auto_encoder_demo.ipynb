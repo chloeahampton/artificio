{
 "cells": [
  {
   "cell_type": "code",
   "execution_count": 1,
   "metadata": {},
   "outputs": [],
   "source": [
    "! mkdir /Users/chloehampton/ship_detection/auto_encoder_data/CAI_results/v1_2/"
   ]
  },
  {
   "cell_type": "code",
   "execution_count": 3,
   "metadata": {},
   "outputs": [
    {
     "name": "stdout",
     "output_type": "stream",
     "text": [
      "/Users/chloehampton/anaconda3/envs/pyveda_development/lib/python3.6/site-packages/h5py/__init__.py:34: FutureWarning: Conversion of the second argument of issubdtype from `float` to `np.floating` is deprecated. In future, it will be treated as `np.float64 == np.dtype(float).type`.\n",
      "  from ._conv import register_converters as _register_converters\n",
      "Reading train images from '/Users/chloehampton/ship_detection/auto_encoder_data/train_data/v1_1/'...\n",
      "Reading test images from '/Users/chloehampton/ship_detection/auto_encoder_data/test_data/v1_1/'...\n",
      "Image shape = (512, 512, 3)\n",
      "\n",
      "autoencoder.summary():\n",
      "_________________________________________________________________\n",
      "Layer (type)                 Output Shape              Param #   \n",
      "=================================================================\n",
      "input_1 (InputLayer)         (None, 786432)            0         \n",
      "_________________________________________________________________\n",
      "dense (Dense)                (None, 128)               100663424 \n",
      "_________________________________________________________________\n",
      "dense_1 (Dense)              (None, 786432)            101449728 \n",
      "=================================================================\n",
      "Total params: 202,113,152\n",
      "Trainable params: 202,113,152\n",
      "Non-trainable params: 0\n",
      "_________________________________________________________________\n",
      "None\n",
      "\n",
      "encoder.summary():\n",
      "_________________________________________________________________\n",
      "Layer (type)                 Output Shape              Param #   \n",
      "=================================================================\n",
      "input_1 (InputLayer)         (None, 786432)            0         \n",
      "_________________________________________________________________\n",
      "dense (Dense)                (None, 128)               100663424 \n",
      "=================================================================\n",
      "Total params: 100,663,424\n",
      "Trainable params: 100,663,424\n",
      "Non-trainable params: 0\n",
      "_________________________________________________________________\n",
      "None\n",
      "\n",
      "decoder.summary():\n",
      "_________________________________________________________________\n",
      "Layer (type)                 Output Shape              Param #   \n",
      "=================================================================\n",
      "input_2 (InputLayer)         (None, 128)               0         \n",
      "_________________________________________________________________\n",
      "dense_1 (Dense)              (None, 786432)            101449728 \n",
      "=================================================================\n",
      "Total params: 101,449,728\n",
      "Trainable params: 101,449,728\n",
      "Non-trainable params: 0\n",
      "_________________________________________________________________\n",
      "None\n",
      "input_shape_model = (Dimension(786432),)\n",
      "output_shape_model = (Dimension(128),)\n",
      "Applying image transformer to training images...\n",
      "Applying image transformer to test images...\n",
      " -> X_train.shape = (119, 786432)\n",
      " -> X_test.shape = (3, 786432)\n",
      "Train on 107 samples, validate on 12 samples\n",
      "Epoch 1/100\n",
      "2019-08-12 13:08:19.127430: I tensorflow/core/platform/cpu_feature_guard.cc:141] Your CPU supports instructions that this TensorFlow binary was not compiled to use: AVX2 FMA\n",
      "107/107 [==============================] - 32s 299ms/step - loss: 0.6931 - val_loss: 0.6931\n",
      "Epoch 2/100\n",
      "^C\n"
     ]
    }
   ],
   "source": [
    "!python image_retrieval.py"
   ]
  },
  {
   "cell_type": "code",
   "execution_count": null,
   "metadata": {},
   "outputs": [],
   "source": []
  }
 ],
 "metadata": {
  "kernelspec": {
   "display_name": "Python [conda env:pyveda_development]",
   "language": "python",
   "name": "conda-env-pyveda_development-py"
  },
  "language_info": {
   "codemirror_mode": {
    "name": "ipython",
    "version": 3
   },
   "file_extension": ".py",
   "mimetype": "text/x-python",
   "name": "python",
   "nbconvert_exporter": "python",
   "pygments_lexer": "ipython3",
   "version": "3.6.6"
  }
 },
 "nbformat": 4,
 "nbformat_minor": 2
}
